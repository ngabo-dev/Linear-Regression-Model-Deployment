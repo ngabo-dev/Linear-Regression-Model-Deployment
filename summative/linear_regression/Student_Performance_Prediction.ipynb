{
  "cells": [
    {
      "cell_type": "markdown",
      "metadata": {
        "colab_type": "text",
        "id": "view-in-github"
      },
      "source": [
        "<a href=\"https://colab.research.google.com/github/ngabo-dev/linear_regression_model/blob/main/Student_Performance_Prediction.ipynb\" target=\"_parent\"><img src=\"https://colab.research.google.com/assets/colab-badge.svg\" alt=\"Open In Colab\"/></a>"
      ]
    },
    {
      "cell_type": "markdown",
      "metadata": {
        "id": "hx3I4folF76L"
      },
      "source": [
        "✅ Task 1: Linear Regression Task\n",
        "\n",
        "\n",
        "Data Handling and Processing"
      ]
    },
    {
      "cell_type": "code",
      "execution_count": 5,
      "metadata": {
        "colab": {
          "base_uri": "https://localhost:8080/"
        },
        "id": "5GUgdfRIGAei",
        "outputId": "f3807292-acbe-4529-a9c6-595857255825"
      },
      "outputs": [],
      "source": [
        "# Data Handling & Processing\n",
        "import pandas as pd\n",
        "import numpy as np\n",
        "\n",
        "# Data Visualization\n",
        "import matplotlib.pyplot as plt\n",
        "import seaborn as sns\n",
        "\n",
        "# Machine Learning: Preprocessing & Models\n",
        "from sklearn.model_selection import train_test_split\n",
        "from sklearn.preprocessing import StandardScaler\n",
        "from sklearn.linear_model import SGDRegressor\n",
        "from sklearn.metrics import mean_squared_error\n",
        "\n",
        "# Model Saving & Loading\n",
        "import joblib"
      ]
    },
    {
      "cell_type": "markdown",
      "metadata": {},
      "source": [
        "Load and explore the dataset"
      ]
    },
    {
      "cell_type": "code",
      "execution_count": 11,
      "metadata": {},
      "outputs": [
        {
          "name": "stdout",
          "output_type": "stream",
          "text": [
            "  Student_ID First_Name Last_Name                    Email  Gender  Age  \\\n",
            "0      S1000       Omar  Williams  student0@university.com  Female   22   \n",
            "1      S1001      Maria     Brown  student1@university.com    Male   18   \n",
            "2      S1002      Ahmed     Jones  student2@university.com    Male   24   \n",
            "3      S1003       Omar  Williams  student3@university.com  Female   24   \n",
            "4      S1004       John     Smith  student4@university.com  Female   23   \n",
            "\n",
            "    Department  Attendance (%)  Midterm_Score  Final_Score  ...  \\\n",
            "0  Engineering           52.29          55.03        57.82  ...   \n",
            "1  Engineering           97.27          97.23        45.80  ...   \n",
            "2     Business           57.19          67.05        93.68  ...   \n",
            "3  Mathematics           95.15          47.79        80.63  ...   \n",
            "4           CS           54.18          46.59        78.89  ...   \n",
            "\n",
            "   Projects_Score  Total_Score  Grade  Study_Hours_per_Week  \\\n",
            "0           85.90        56.09      F                   6.2   \n",
            "1           55.65        50.64      A                  19.0   \n",
            "2           73.79        70.30      D                  20.7   \n",
            "3           92.12        61.63      A                  24.8   \n",
            "4           68.42        66.13      F                  15.4   \n",
            "\n",
            "   Extracurricular_Activities Internet_Access_at_Home  Parent_Education_Level  \\\n",
            "0                          No                     Yes             High School   \n",
            "1                          No                     Yes                     NaN   \n",
            "2                          No                     Yes                Master's   \n",
            "3                         Yes                     Yes             High School   \n",
            "4                         Yes                     Yes             High School   \n",
            "\n",
            "  Family_Income_Level Stress_Level (1-10) Sleep_Hours_per_Night  \n",
            "0              Medium                   5                   4.7  \n",
            "1              Medium                   4                   9.0  \n",
            "2                 Low                   6                   6.2  \n",
            "3                High                   3                   6.7  \n",
            "4                High                   2                   7.1  \n",
            "\n",
            "[5 rows x 23 columns]\n",
            "<class 'pandas.core.frame.DataFrame'>\n",
            "RangeIndex: 5000 entries, 0 to 4999\n",
            "Data columns (total 23 columns):\n",
            " #   Column                      Non-Null Count  Dtype  \n",
            "---  ------                      --------------  -----  \n",
            " 0   Student_ID                  5000 non-null   object \n",
            " 1   First_Name                  5000 non-null   object \n",
            " 2   Last_Name                   5000 non-null   object \n",
            " 3   Email                       5000 non-null   object \n",
            " 4   Gender                      5000 non-null   object \n",
            " 5   Age                         5000 non-null   int64  \n",
            " 6   Department                  5000 non-null   object \n",
            " 7   Attendance (%)              4484 non-null   float64\n",
            " 8   Midterm_Score               5000 non-null   float64\n",
            " 9   Final_Score                 5000 non-null   float64\n",
            " 10  Assignments_Avg             4483 non-null   float64\n",
            " 11  Quizzes_Avg                 5000 non-null   float64\n",
            " 12  Participation_Score         5000 non-null   float64\n",
            " 13  Projects_Score              5000 non-null   float64\n",
            " 14  Total_Score                 5000 non-null   float64\n",
            " 15  Grade                       5000 non-null   object \n",
            " 16  Study_Hours_per_Week        5000 non-null   float64\n",
            " 17  Extracurricular_Activities  5000 non-null   object \n",
            " 18  Internet_Access_at_Home     5000 non-null   object \n",
            " 19  Parent_Education_Level      3206 non-null   object \n",
            " 20  Family_Income_Level         5000 non-null   object \n",
            " 21  Stress_Level (1-10)         5000 non-null   int64  \n",
            " 22  Sleep_Hours_per_Night       5000 non-null   float64\n",
            "dtypes: float64(10), int64(2), object(11)\n",
            "memory usage: 898.6+ KB\n",
            "None\n",
            "Student_ID                       0\n",
            "First_Name                       0\n",
            "Last_Name                        0\n",
            "Email                            0\n",
            "Gender                           0\n",
            "Age                              0\n",
            "Department                       0\n",
            "Attendance (%)                 516\n",
            "Midterm_Score                    0\n",
            "Final_Score                      0\n",
            "Assignments_Avg                517\n",
            "Quizzes_Avg                      0\n",
            "Participation_Score              0\n",
            "Projects_Score                   0\n",
            "Total_Score                      0\n",
            "Grade                            0\n",
            "Study_Hours_per_Week             0\n",
            "Extracurricular_Activities       0\n",
            "Internet_Access_at_Home          0\n",
            "Parent_Education_Level        1794\n",
            "Family_Income_Level              0\n",
            "Stress_Level (1-10)              0\n",
            "Sleep_Hours_per_Night            0\n",
            "dtype: int64\n",
            "               Age  Attendance (%)  Midterm_Score  Final_Score  \\\n",
            "count  5000.000000     4484.000000    5000.000000  5000.000000   \n",
            "mean     21.048400       75.431409      70.326844    69.640788   \n",
            "std       1.989786       14.372446      17.213209    17.238744   \n",
            "min      18.000000       50.010000      40.000000    40.000000   \n",
            "25%      19.000000       63.265000      55.457500    54.667500   \n",
            "50%      21.000000       75.725000      70.510000    69.735000   \n",
            "75%      23.000000       87.472500      84.970000    84.500000   \n",
            "max      24.000000      100.000000      99.980000    99.980000   \n",
            "\n",
            "       Assignments_Avg  Quizzes_Avg  Participation_Score  Projects_Score  \\\n",
            "count      4483.000000  5000.000000          5000.000000     5000.000000   \n",
            "mean         74.798673    74.910728             4.980024       74.924860   \n",
            "std          14.411799    14.504281             2.890136       14.423415   \n",
            "min          50.000000    50.030000             0.000000       50.010000   \n",
            "25%          62.090000    62.490000             2.440000       62.320000   \n",
            "50%          74.810000    74.695000             4.955000       74.980000   \n",
            "75%          86.970000    87.630000             7.500000       87.367500   \n",
            "max          99.980000    99.960000            10.000000      100.000000   \n",
            "\n",
            "       Total_Score  Study_Hours_per_Week  Stress_Level (1-10)  \\\n",
            "count  5000.000000           5000.000000           5000.00000   \n",
            "mean     75.121804             17.658860              5.48080   \n",
            "std      14.399941              7.275864              2.86155   \n",
            "min      50.020000              5.000000              1.00000   \n",
            "25%      62.835000             11.400000              3.00000   \n",
            "50%      75.395000             17.500000              5.00000   \n",
            "75%      87.652500             24.100000              8.00000   \n",
            "max      99.990000             30.000000             10.00000   \n",
            "\n",
            "       Sleep_Hours_per_Night  \n",
            "count            5000.000000  \n",
            "mean                6.488140  \n",
            "std                 1.452283  \n",
            "min                 4.000000  \n",
            "25%                 5.200000  \n",
            "50%                 6.500000  \n",
            "75%                 7.700000  \n",
            "max                 9.000000  \n",
            "['Female' 'Male']\n",
            "['Engineering' 'Business' 'Mathematics' 'CS']\n"
          ]
        }
      ],
      "source": [
        "\n",
        "# Load the dataset\n",
        "df = pd.read_csv(\"Students_Grading_Dataset.csv\")\n",
        "\n",
        "# Display the first few rows\n",
        "print(df.head())\n",
        "\n",
        "# Get dataset summary\n",
        "print(df.info())\n",
        "\n",
        "# Check for missing values\n",
        "print(df.isnull().sum())\n",
        "\n",
        "# Display basic statistics\n",
        "print(df.describe())\n",
        "\n",
        "# Check unique values in categorical columns\n",
        "print(df[\"Gender\"].unique())\n",
        "print(df[\"Department\"].unique())"
      ]
    },
    {
      "cell_type": "markdown",
      "metadata": {
        "id": "jBN-7IlLVeTh"
      },
      "source": [
        "Step 2: Model Training & Comparison"
      ]
    }
  ],
  "metadata": {
    "colab": {
      "authorship_tag": "ABX9TyOmQoiW0z5MMry/4HsieeFw",
      "include_colab_link": true,
      "provenance": []
    },
    "kernelspec": {
      "display_name": "venv",
      "language": "python",
      "name": "python3"
    },
    "language_info": {
      "codemirror_mode": {
        "name": "ipython",
        "version": 3
      },
      "file_extension": ".py",
      "mimetype": "text/x-python",
      "name": "python",
      "nbconvert_exporter": "python",
      "pygments_lexer": "ipython3",
      "version": "3.12.3"
    }
  },
  "nbformat": 4,
  "nbformat_minor": 0
}
